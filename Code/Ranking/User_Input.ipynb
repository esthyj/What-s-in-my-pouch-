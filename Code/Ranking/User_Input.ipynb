{
 "cells": [
  {
   "cell_type": "markdown",
   "id": "c97bd3a9",
   "metadata": {},
   "source": [
    "## Make File of User"
   ]
  },
  {
   "cell_type": "code",
   "execution_count": 1,
   "id": "82a31afa",
   "metadata": {},
   "outputs": [],
   "source": [
    "file = open(\"user_info.txt\", \"w\") "
   ]
  },
  {
   "cell_type": "markdown",
   "id": "8a682598",
   "metadata": {},
   "source": [
    "## User Input\n",
    "나이: 20대 | 30대 | 40대 이상  \n",
    "피부타입: 건성 | 복합성 | 지성  \n",
    "피부고민: 보습 | 진정 | 주름/미백  "
   ]
  },
  {
   "cell_type": "code",
   "execution_count": 2,
   "id": "5d02d9bf",
   "metadata": {},
   "outputs": [
    {
     "name": "stdout",
     "output_type": "stream",
     "text": [
      "이름: 최윤선\n",
      "나이: 30대\n",
      "피부타입: 복합성\n",
      "피부고민: 진정\n",
      "최윤선님의 회원가입을 환영합니다!\n"
     ]
    }
   ],
   "source": [
    "name=input('이름: ')\n",
    "file.write(name)\n",
    "file.write(\"\\n\")\n",
    "\n",
    "age=input('나이: ')\n",
    "file.write(age)\n",
    "file.write(\"\\n\")\n",
    "\n",
    "skinType=input('피부타입: ')\n",
    "file.write(skinType)\n",
    "file.write(\"\\n\")\n",
    "\n",
    "skinConcern=input('피부고민: ')\n",
    "file.write(skinConcern)\n",
    "\n",
    "file.close()\n",
    "\n",
    "print(str(name)+\"님의 회원가입을 환영합니다!\")"
   ]
  },
  {
   "cell_type": "code",
   "execution_count": null,
   "id": "0cb2a917",
   "metadata": {},
   "outputs": [],
   "source": []
  }
 ],
 "metadata": {
  "kernelspec": {
   "display_name": "Python 3 (ipykernel)",
   "language": "python",
   "name": "python3"
  },
  "language_info": {
   "codemirror_mode": {
    "name": "ipython",
    "version": 3
   },
   "file_extension": ".py",
   "mimetype": "text/x-python",
   "name": "python",
   "nbconvert_exporter": "python",
   "pygments_lexer": "ipython3",
   "version": "3.9.12"
  }
 },
 "nbformat": 4,
 "nbformat_minor": 5
}
